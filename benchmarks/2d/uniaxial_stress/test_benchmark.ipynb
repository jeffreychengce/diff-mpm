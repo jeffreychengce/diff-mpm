{
 "cells": [
  {
   "cell_type": "code",
   "execution_count": 4,
   "metadata": {},
   "outputs": [
    {
     "ename": "AssertionError",
     "evalue": "",
     "output_type": "error",
     "traceback": [
      "\u001b[0;31m---------------------------------------------------------------------------\u001b[0m",
      "\u001b[0;31mAssertionError\u001b[0m                            Traceback (most recent call last)",
      "Cell \u001b[0;32mIn[4], line 18\u001b[0m\n\u001b[1;32m     15\u001b[0m true_stress_yy \u001b[39m=\u001b[39m \u001b[39m-\u001b[39m\u001b[39m1.0\u001b[39m\n\u001b[1;32m     16\u001b[0m true_stress_xx \u001b[39m=\u001b[39m \u001b[39m0.0\u001b[39m\n\u001b[0;32m---> 18\u001b[0m \u001b[39massert\u001b[39;00m jnp\u001b[39m.\u001b[39mround(result[\u001b[39m\"\u001b[39m\u001b[39mstress\u001b[39m\u001b[39m\"\u001b[39m][\u001b[39m0\u001b[39m, :, \u001b[39m1\u001b[39m]\u001b[39m.\u001b[39mmax() \u001b[39m-\u001b[39m true_stress_yy, \u001b[39m8\u001b[39m) \u001b[39m==\u001b[39m \u001b[39m0.0\u001b[39m\n\u001b[1;32m     19\u001b[0m \u001b[39massert\u001b[39;00m jnp\u001b[39m.\u001b[39mround(result[\u001b[39m\"\u001b[39m\u001b[39mstress\u001b[39m\u001b[39m\"\u001b[39m][\u001b[39m0\u001b[39m, :, \u001b[39m0\u001b[39m]\u001b[39m.\u001b[39mmax() \u001b[39m-\u001b[39m true_stress_xx, \u001b[39m8\u001b[39m) \u001b[39m==\u001b[39m \u001b[39m0.0\u001b[39m\n",
      "\u001b[0;31mAssertionError\u001b[0m: "
     ]
    }
   ],
   "source": [
    "import os\n",
    "from pathlib import Path\n",
    "\n",
    "import jax.numpy as jnp\n",
    "\n",
    "from diffmpm import MPM\n",
    "\n",
    "\n",
    "\n",
    "\n",
    "# mpm = MPM(\"mpm-uniaxial-stress.toml\")\n",
    "# mpm.solve()\n",
    "\n",
    "result = jnp.load(\"results/uniaxial-stress-usf/particles_09.npz\")\n",
    "true_stress_yy = -1.0\n",
    "true_stress_xx = 0.0\n",
    "\n",
    "assert jnp.round(result[\"stress\"][0, :, 1].max() - true_stress_yy, 8) == 0.0\n",
    "assert jnp.round(result[\"stress\"][0, :, 0].max() - true_stress_xx, 8) == 0.0\n"
   ]
  },
  {
   "cell_type": "code",
   "execution_count": 7,
   "metadata": {},
   "outputs": [
    {
     "data": {
      "text/plain": [
       "Array(4.5e-07, dtype=float32)"
      ]
     },
     "execution_count": 7,
     "metadata": {},
     "output_type": "execute_result"
    }
   ],
   "source": [
    "jnp.round(result[\"stress\"][0, :, 0].max() - true_stress_xx, 8)"
   ]
  }
 ],
 "metadata": {
  "kernelspec": {
   "display_name": "env_surrogate3",
   "language": "python",
   "name": "python3"
  },
  "language_info": {
   "codemirror_mode": {
    "name": "ipython",
    "version": 3
   },
   "file_extension": ".py",
   "mimetype": "text/x-python",
   "name": "python",
   "nbconvert_exporter": "python",
   "pygments_lexer": "ipython3",
   "version": "3.11.0"
  },
  "orig_nbformat": 4
 },
 "nbformat": 4,
 "nbformat_minor": 2
}
